{
 "cells": [
  {
   "cell_type": "code",
   "execution_count": 1,
   "metadata": {},
   "outputs": [],
   "source": [
    "#SQLAlchemy imports\n",
    "import sqlalchemy\n",
    "from sqlalchemy.ext.automap import automap_base\n",
    "from sqlalchemy.orm import Session\n",
    "from sqlalchemy import create_engine, inspect, func, distinct"
   ]
  },
  {
   "cell_type": "code",
   "execution_count": 2,
   "metadata": {},
   "outputs": [],
   "source": [
    "#Pandas and Matplotlib imports\n",
    "import numpy as np\n",
    "import pandas as pd\n",
    "from datetime import datetime, timedelta\n",
    "%matplotlib inline\n",
    "from matplotlib import style\n",
    "style.use('fivethirtyeight')\n",
    "import matplotlib.pyplot as plt"
   ]
  },
  {
   "cell_type": "code",
   "execution_count": 3,
   "metadata": {},
   "outputs": [],
   "source": [
    "engine = create_engine(\"sqlite:///Resources/hawaii.sqlite\")"
   ]
  },
  {
   "cell_type": "markdown",
   "metadata": {},
   "source": [
    "Inspecting database"
   ]
  },
  {
   "cell_type": "code",
   "execution_count": 4,
   "metadata": {},
   "outputs": [
    {
     "data": {
      "text/plain": [
       "['measurement', 'station']"
      ]
     },
     "execution_count": 4,
     "metadata": {},
     "output_type": "execute_result"
    }
   ],
   "source": [
    "# Use the Inspector to explore the database and print the table names\n",
    "inspector = inspect(engine)\n",
    "inspector.get_table_names()"
   ]
  },
  {
   "cell_type": "code",
   "execution_count": 5,
   "metadata": {},
   "outputs": [
    {
     "name": "stdout",
     "output_type": "stream",
     "text": [
      "id INTEGER\n",
      "station TEXT\n",
      "date TEXT\n",
      "prcp FLOAT\n",
      "tobs FLOAT\n"
     ]
    }
   ],
   "source": [
    "# Use Inspector to print the column names and types for 'measurement' table\n",
    "columns = inspector.get_columns('measurement')\n",
    "for column in columns:\n",
    "    print(column[\"name\"], column[\"type\"])"
   ]
  },
  {
   "cell_type": "code",
   "execution_count": 6,
   "metadata": {},
   "outputs": [
    {
     "name": "stdout",
     "output_type": "stream",
     "text": [
      "(1, 'USC00519397', '2010-01-01', 0.08, 65.0)\n",
      "(2, 'USC00519397', '2010-01-02', 0.0, 63.0)\n",
      "(3, 'USC00519397', '2010-01-03', 0.0, 74.0)\n",
      "(4, 'USC00519397', '2010-01-04', 0.0, 76.0)\n",
      "(5, 'USC00519397', '2010-01-06', None, 73.0)\n",
      "(6, 'USC00519397', '2010-01-07', 0.06, 70.0)\n",
      "(7, 'USC00519397', '2010-01-08', 0.0, 64.0)\n",
      "(8, 'USC00519397', '2010-01-09', 0.0, 68.0)\n",
      "(9, 'USC00519397', '2010-01-10', 0.0, 73.0)\n"
     ]
    }
   ],
   "source": [
    "measure_rows = engine.execute('SELECT * FROM ' '\"measurement\"' 'LIMIT 0,9').fetchall()\n",
    "\n",
    "for row in measure_rows:\n",
    "    print(row)"
   ]
  },
  {
   "cell_type": "code",
   "execution_count": 7,
   "metadata": {},
   "outputs": [
    {
     "name": "stdout",
     "output_type": "stream",
     "text": [
      "id INTEGER\n",
      "station TEXT\n",
      "name TEXT\n",
      "latitude FLOAT\n",
      "longitude FLOAT\n",
      "elevation FLOAT\n"
     ]
    }
   ],
   "source": [
    "# Use Inspector to print the column names and types for 'station' table\n",
    "columns = inspector.get_columns('station')\n",
    "for column in columns:\n",
    "    print(column[\"name\"], column[\"type\"])"
   ]
  },
  {
   "cell_type": "code",
   "execution_count": 8,
   "metadata": {},
   "outputs": [
    {
     "name": "stdout",
     "output_type": "stream",
     "text": [
      "(1, 'USC00519397', 'WAIKIKI 717.2, HI US', 21.2716, -157.8168, 3.0)\n",
      "(2, 'USC00513117', 'KANEOHE 838.1, HI US', 21.4234, -157.8015, 14.6)\n",
      "(3, 'USC00514830', 'KUALOA RANCH HEADQUARTERS 886.9, HI US', 21.5213, -157.8374, 7.0)\n",
      "(4, 'USC00517948', 'PEARL CITY, HI US', 21.3934, -157.9751, 11.9)\n",
      "(5, 'USC00518838', 'UPPER WAHIAWA 874.3, HI US', 21.4992, -158.0111, 306.6)\n",
      "(6, 'USC00519523', 'WAIMANALO EXPERIMENTAL FARM, HI US', 21.33556, -157.71139, 19.5)\n",
      "(7, 'USC00519281', 'WAIHEE 837.5, HI US', 21.45167, -157.84888999999998, 32.9)\n",
      "(8, 'USC00511918', 'HONOLULU OBSERVATORY 702.2, HI US', 21.3152, -157.9992, 0.9)\n",
      "(9, 'USC00516128', 'MANOA LYON ARBO 785.2, HI US', 21.3331, -157.8025, 152.4)\n"
     ]
    }
   ],
   "source": [
    "station_rows = engine.execute('SELECT * FROM ' '\"station\"' 'LIMIT 0,15').fetchall()\n",
    "\n",
    "for row in station_rows:\n",
    "    print(row)"
   ]
  },
  {
   "cell_type": "markdown",
   "metadata": {},
   "source": [
    "#### Reflect Tables into SQLAlchemy ORM"
   ]
  },
  {
   "cell_type": "code",
   "execution_count": 9,
   "metadata": {},
   "outputs": [],
   "source": [
    "# Reflect Database into ORM class\n",
    "Base = automap_base()\n",
    "Base.prepare(engine, reflect=True)"
   ]
  },
  {
   "cell_type": "code",
   "execution_count": 10,
   "metadata": {},
   "outputs": [],
   "source": [
    "M = Base.classes.measurement\n",
    "S = Base.classes.station"
   ]
  },
  {
   "cell_type": "code",
   "execution_count": 11,
   "metadata": {},
   "outputs": [],
   "source": [
    "# Start a session to query the database\n",
    "session = Session(engine)"
   ]
  },
  {
   "cell_type": "markdown",
   "metadata": {},
   "source": [
    "## Precipitation Analysis"
   ]
  },
  {
   "cell_type": "code",
   "execution_count": 12,
   "metadata": {},
   "outputs": [],
   "source": [
    "data = engine.execute('SELECT MAX(date) FROM ' '\"measurement\"' '').fetchall() #Get last date in table\n",
    "last_date_str = data[0][0]"
   ]
  },
  {
   "cell_type": "code",
   "execution_count": 13,
   "metadata": {},
   "outputs": [],
   "source": [
    "# Method 2\n",
    "# test = session.query(Measurement.station, func.max(Measurement.date))\n",
    "# for t in test:\n",
    "#     last_date = t[0]\n",
    "\n",
    "# Method 3\n",
    "# test = session.query(Measurement.station, func.max(Measurement.date)).all()\n",
    "# test"
   ]
  },
  {
   "cell_type": "code",
   "execution_count": 14,
   "metadata": {},
   "outputs": [],
   "source": [
    "last_date_frmt = datetime.strptime(last_date_str, '%Y-%m-%d').date() #Convert datestring to datetime\n",
    "from dateutil.relativedelta import relativedelta\n",
    "date_1_year_ago = last_date_frmt - relativedelta(years=1)"
   ]
  },
  {
   "cell_type": "code",
   "execution_count": 15,
   "metadata": {},
   "outputs": [],
   "source": [
    "# Design a query to retrieve the last 12 months of precipitation data and plot the results\n",
    "results = session.query(M.date, M.prcp).order_by(M.date.asc()).filter(M.date >= date_1_year_ago)\n",
    "\n",
    "dates = [result[0] for result in results[:]]\n",
    "prcps = [result[1] for result in results[:]]"
   ]
  },
  {
   "cell_type": "code",
   "execution_count": 16,
   "metadata": {},
   "outputs": [
    {
     "data": {
      "text/html": [
       "<div>\n",
       "<style scoped>\n",
       "    .dataframe tbody tr th:only-of-type {\n",
       "        vertical-align: middle;\n",
       "    }\n",
       "\n",
       "    .dataframe tbody tr th {\n",
       "        vertical-align: top;\n",
       "    }\n",
       "\n",
       "    .dataframe thead th {\n",
       "        text-align: right;\n",
       "    }\n",
       "</style>\n",
       "<table border=\"1\" class=\"dataframe\">\n",
       "  <thead>\n",
       "    <tr style=\"text-align: right;\">\n",
       "      <th></th>\n",
       "      <th>Date</th>\n",
       "      <th>Precipitation</th>\n",
       "    </tr>\n",
       "  </thead>\n",
       "  <tbody>\n",
       "    <tr>\n",
       "      <th>0</th>\n",
       "      <td>2016-08-23</td>\n",
       "      <td>0.00</td>\n",
       "    </tr>\n",
       "    <tr>\n",
       "      <th>1</th>\n",
       "      <td>2016-08-23</td>\n",
       "      <td>0.15</td>\n",
       "    </tr>\n",
       "    <tr>\n",
       "      <th>2</th>\n",
       "      <td>2016-08-23</td>\n",
       "      <td>0.05</td>\n",
       "    </tr>\n",
       "    <tr>\n",
       "      <th>3</th>\n",
       "      <td>2016-08-23</td>\n",
       "      <td>NaN</td>\n",
       "    </tr>\n",
       "    <tr>\n",
       "      <th>4</th>\n",
       "      <td>2016-08-23</td>\n",
       "      <td>0.02</td>\n",
       "    </tr>\n",
       "  </tbody>\n",
       "</table>\n",
       "</div>"
      ],
      "text/plain": [
       "         Date  Precipitation\n",
       "0  2016-08-23           0.00\n",
       "1  2016-08-23           0.15\n",
       "2  2016-08-23           0.05\n",
       "3  2016-08-23            NaN\n",
       "4  2016-08-23           0.02"
      ]
     },
     "execution_count": 16,
     "metadata": {},
     "output_type": "execute_result"
    }
   ],
   "source": [
    "# Store values in a dataframe\n",
    "df1 = pd.DataFrame(results[:], columns=['Date', 'Precipitation'])\n",
    "df1.head()"
   ]
  },
  {
   "cell_type": "code",
   "execution_count": 17,
   "metadata": {},
   "outputs": [
    {
     "data": {
      "text/plain": [
       "Date             datetime64[ns]\n",
       "Precipitation           float64\n",
       "dtype: object"
      ]
     },
     "execution_count": 17,
     "metadata": {},
     "output_type": "execute_result"
    }
   ],
   "source": [
    "# Converting Date column to datetime type\n",
    "df1['Date'] =  pd.to_datetime(df1['Date'])\n",
    "df1.dtypes"
   ]
  },
  {
   "cell_type": "code",
   "execution_count": 18,
   "metadata": {},
   "outputs": [
    {
     "data": {
      "text/plain": [
       "2230"
      ]
     },
     "execution_count": 18,
     "metadata": {},
     "output_type": "execute_result"
    }
   ],
   "source": [
    "#Number of rows in dataframe presently\n",
    "df1.shape[0]"
   ]
  },
  {
   "cell_type": "code",
   "execution_count": 19,
   "metadata": {},
   "outputs": [],
   "source": [
    "df1 = df1.dropna()"
   ]
  },
  {
   "cell_type": "code",
   "execution_count": 20,
   "metadata": {},
   "outputs": [
    {
     "data": {
      "text/plain": [
       "2021"
      ]
     },
     "execution_count": 20,
     "metadata": {},
     "output_type": "execute_result"
    }
   ],
   "source": [
    "#Number of rows in dataframe presently\n",
    "df1.shape[0]"
   ]
  },
  {
   "cell_type": "code",
   "execution_count": 21,
   "metadata": {},
   "outputs": [
    {
     "data": {
      "text/html": [
       "<div>\n",
       "<style scoped>\n",
       "    .dataframe tbody tr th:only-of-type {\n",
       "        vertical-align: middle;\n",
       "    }\n",
       "\n",
       "    .dataframe tbody tr th {\n",
       "        vertical-align: top;\n",
       "    }\n",
       "\n",
       "    .dataframe thead th {\n",
       "        text-align: right;\n",
       "    }\n",
       "</style>\n",
       "<table border=\"1\" class=\"dataframe\">\n",
       "  <thead>\n",
       "    <tr style=\"text-align: right;\">\n",
       "      <th></th>\n",
       "      <th>Precipitation</th>\n",
       "    </tr>\n",
       "  </thead>\n",
       "  <tbody>\n",
       "    <tr>\n",
       "      <th>count</th>\n",
       "      <td>2021.000000</td>\n",
       "    </tr>\n",
       "    <tr>\n",
       "      <th>mean</th>\n",
       "      <td>0.177279</td>\n",
       "    </tr>\n",
       "    <tr>\n",
       "      <th>std</th>\n",
       "      <td>0.461190</td>\n",
       "    </tr>\n",
       "    <tr>\n",
       "      <th>min</th>\n",
       "      <td>0.000000</td>\n",
       "    </tr>\n",
       "    <tr>\n",
       "      <th>25%</th>\n",
       "      <td>0.000000</td>\n",
       "    </tr>\n",
       "    <tr>\n",
       "      <th>50%</th>\n",
       "      <td>0.020000</td>\n",
       "    </tr>\n",
       "    <tr>\n",
       "      <th>75%</th>\n",
       "      <td>0.130000</td>\n",
       "    </tr>\n",
       "    <tr>\n",
       "      <th>max</th>\n",
       "      <td>6.700000</td>\n",
       "    </tr>\n",
       "  </tbody>\n",
       "</table>\n",
       "</div>"
      ],
      "text/plain": [
       "       Precipitation\n",
       "count    2021.000000\n",
       "mean        0.177279\n",
       "std         0.461190\n",
       "min         0.000000\n",
       "25%         0.000000\n",
       "50%         0.020000\n",
       "75%         0.130000\n",
       "max         6.700000"
      ]
     },
     "execution_count": 21,
     "metadata": {},
     "output_type": "execute_result"
    }
   ],
   "source": [
    "df1.describe()"
   ]
  },
  {
   "cell_type": "code",
   "execution_count": 22,
   "metadata": {},
   "outputs": [
    {
     "data": {
      "image/png": "[encoded data removed]",
      "text/plain": [
       "<Figure size 432x288 with 1 Axes>"
      ]
     },
     "metadata": {
      "needs_background": "light"
     },
     "output_type": "display_data"
    }
   ],
   "source": [
    "df1_grouped = df1.groupby(['Date'], as_index=True).mean()\n",
    "ax = df1_grouped.plot()\n",
    "ax.set(xlabel='Date', ylabel='Avg(Precipitation)', title ='Precipitation Analysis 1')\n",
    "plt.show()"
   ]
  },
  {
   "cell_type": "code",
   "execution_count": 23,
   "metadata": {},
   "outputs": [
    {
     "data": {
      "image/png": "[encoded data removed]",
      "text/plain": [
       "<Figure size 432x288 with 1 Axes>"
      ]
     },
     "metadata": {
      "needs_background": "light"
     },
     "output_type": "display_data"
    }
   ],
   "source": [
    "ax = df1.plot(x='Date', y='Precipitation')\n",
    "ax.set(xlabel='Date', ylabel='Precipitation', title ='Precipitation Analysis 2')\n",
    "plt.show()"
   ]
  },
  {
   "cell_type": "markdown",
   "metadata": {},
   "source": [
    "## Station Analysis"
   ]
  },
  {
   "cell_type": "code",
   "execution_count": 24,
   "metadata": {},
   "outputs": [
    {
     "name": "stdout",
     "output_type": "stream",
     "text": [
      "Number of stations in the dataset: 9\n"
     ]
    }
   ],
   "source": [
    "# Design a query to show how many stations are available in this dataset?\n",
    "\n",
    "num_stations = session.query(S.station).group_by(S.station).count()\n",
    "print(f'Number of stations in the dataset: {num_stations}')"
   ]
  },
  {
   "cell_type": "code",
   "execution_count": 25,
   "metadata": {},
   "outputs": [
    {
     "data": {
      "text/plain": [
       "['USC00519397',\n",
       " 'USC00513117',\n",
       " 'USC00514830',\n",
       " 'USC00517948',\n",
       " 'USC00518838',\n",
       " 'USC00519523',\n",
       " 'USC00519281',\n",
       " 'USC00511918',\n",
       " 'USC00516128']"
      ]
     },
     "execution_count": 25,
     "metadata": {},
     "output_type": "execute_result"
    }
   ],
   "source": [
    "# Print all the unique station names\n",
    "\n",
    "qry = session.query(S.station.distinct().label(\"stations\"))\n",
    "stations = [row.stations for row in qry.all()]\n",
    "stations"
   ]
  },
  {
   "cell_type": "code",
   "execution_count": 26,
   "metadata": {},
   "outputs": [
    {
     "name": "stdout",
     "output_type": "stream",
     "text": [
      "Station USC00519281 recorded 2772 observations\n",
      "Station USC00519397 recorded 2724 observations\n",
      "Station USC00513117 recorded 2709 observations\n",
      "Station USC00519523 recorded 2669 observations\n",
      "Station USC00516128 recorded 2612 observations\n",
      "Station USC00514830 recorded 2202 observations\n",
      "Station USC00511918 recorded 1979 observations\n",
      "Station USC00517948 recorded 1372 observations\n",
      "Station USC00518838 recorded 511 observations\n"
     ]
    }
   ],
   "source": [
    "#List the stations and observation counts in descending order.\n",
    "\n",
    "station_counts = session.query(M.station, func.count(M.tobs)).group_by(M.station).order_by(func.count(M.station).desc())\n",
    "\n",
    "for i in station_counts:\n",
    "    print(f'Station {i[0]} recorded {i[1]} observations')"
   ]
  },
  {
   "cell_type": "code",
   "execution_count": 27,
   "metadata": {},
   "outputs": [
    {
     "name": "stdout",
     "output_type": "stream",
     "text": [
      "The station with highest number of observations is USC00519281\n"
     ]
    }
   ],
   "source": [
    "# Which station has the highest number of observations?\n",
    "station_max_obs = session.query(M.station, func.count(M.station)).group_by(M.station).\\\n",
    "                    order_by(func.count(M.station).desc()).first()\n",
    "\n",
    "print(f'The station with highest number of observations is {station_max_obs[0]}')"
   ]
  },
  {
   "cell_type": "code",
   "execution_count": 28,
   "metadata": {},
   "outputs": [],
   "source": [
    "# Design a query to retrieve the last 12 months of temperature observation data (tobs).\n",
    "results = session.query(M.date, M.tobs).order_by(M.date.asc()).filter(M.station == station_max_obs[0]).\\\n",
    "        filter((M.date >= date_1_year_ago))\n",
    "\n",
    "dates = [result[0] for result in results[:]]\n",
    "temps = [result[1] for result in results[:]]"
   ]
  },
  {
   "cell_type": "code",
   "execution_count": 29,
   "metadata": {},
   "outputs": [
    {
     "data": {
      "text/html": [
       "<div>\n",
       "<style scoped>\n",
       "    .dataframe tbody tr th:only-of-type {\n",
       "        vertical-align: middle;\n",
       "    }\n",
       "\n",
       "    .dataframe tbody tr th {\n",
       "        vertical-align: top;\n",
       "    }\n",
       "\n",
       "    .dataframe thead th {\n",
       "        text-align: right;\n",
       "    }\n",
       "</style>\n",
       "<table border=\"1\" class=\"dataframe\">\n",
       "  <thead>\n",
       "    <tr style=\"text-align: right;\">\n",
       "      <th></th>\n",
       "      <th>Date</th>\n",
       "      <th>Temperature</th>\n",
       "    </tr>\n",
       "  </thead>\n",
       "  <tbody>\n",
       "    <tr>\n",
       "      <th>0</th>\n",
       "      <td>2016-08-23</td>\n",
       "      <td>77.0</td>\n",
       "    </tr>\n",
       "    <tr>\n",
       "      <th>1</th>\n",
       "      <td>2016-08-24</td>\n",
       "      <td>77.0</td>\n",
       "    </tr>\n",
       "    <tr>\n",
       "      <th>2</th>\n",
       "      <td>2016-08-25</td>\n",
       "      <td>80.0</td>\n",
       "    </tr>\n",
       "    <tr>\n",
       "      <th>3</th>\n",
       "      <td>2016-08-26</td>\n",
       "      <td>80.0</td>\n",
       "    </tr>\n",
       "    <tr>\n",
       "      <th>4</th>\n",
       "      <td>2016-08-27</td>\n",
       "      <td>75.0</td>\n",
       "    </tr>\n",
       "  </tbody>\n",
       "</table>\n",
       "</div>"
      ],
      "text/plain": [
       "         Date  Temperature\n",
       "0  2016-08-23         77.0\n",
       "1  2016-08-24         77.0\n",
       "2  2016-08-25         80.0\n",
       "3  2016-08-26         80.0\n",
       "4  2016-08-27         75.0"
      ]
     },
     "execution_count": 29,
     "metadata": {},
     "output_type": "execute_result"
    }
   ],
   "source": [
    "# Store values in a dataframe\n",
    "df2 = pd.DataFrame(results[:], columns=['Date', 'Temperature'])\n",
    "df2.head()"
   ]
  },
  {
   "cell_type": "code",
   "execution_count": 30,
   "metadata": {},
   "outputs": [
    {
     "data": {
      "image/png": "[encoded data removed]",
      "text/plain": [
       "<Figure size 432x288 with 1 Axes>"
      ]
     },
     "metadata": {
      "needs_background": "light"
     },
     "output_type": "display_data"
    }
   ],
   "source": [
    "ax = df2.hist(column='Temperature', bins =12, label = 'Temo')\n",
    "plt.title(\"Temperature Spread (station:USC00519281)\")\n",
    "plt.xlabel(\"Temperature\")\n",
    "plt.ylabel(\"Frequency\")\n",
    "plt.show()"
   ]
  },
  {
   "cell_type": "code",
   "execution_count": 31,
   "metadata": {},
   "outputs": [
    {
     "name": "stdout",
     "output_type": "stream",
     "text": [
      "('2016-08-23', 77.0)\n",
      "('2016-08-24', 77.0)\n",
      "('2016-08-25', 80.0)\n",
      "('2016-08-26', 80.0)\n",
      "('2016-08-27', 75.0)\n",
      "('2016-08-28', 73.0)\n",
      "('2016-08-29', 78.0)\n",
      "('2016-08-30', 77.0)\n",
      "('2016-08-31', 78.0)\n",
      "('2016-09-01', 80.0)\n",
      "('2016-09-02', 80.0)\n",
      "('2016-09-03', 78.0)\n",
      "('2016-09-04', 78.0)\n",
      "('2016-09-05', 78.0)\n",
      "('2016-09-06', 73.0)\n",
      "('2016-09-07', 74.0)\n",
      "('2016-09-08', 80.0)\n",
      "('2016-09-09', 79.0)\n",
      "('2016-09-10', 77.0)\n",
      "('2016-09-11', 80.0)\n",
      "('2016-09-12', 76.0)\n",
      "('2016-09-13', 79.0)\n",
      "('2016-09-14', 75.0)\n",
      "('2016-09-15', 79.0)\n",
      "('2016-09-16', 78.0)\n",
      "('2016-09-17', 79.0)\n",
      "('2016-09-18', 78.0)\n",
      "('2016-09-19', 78.0)\n",
      "('2016-09-20', 76.0)\n",
      "('2016-09-21', 74.0)\n",
      "('2016-09-22', 77.0)\n",
      "('2016-09-23', 78.0)\n",
      "('2016-09-24', 79.0)\n",
      "('2016-09-25', 79.0)\n",
      "('2016-09-26', 77.0)\n",
      "('2016-09-27', 80.0)\n",
      "('2016-09-28', 78.0)\n",
      "('2016-09-29', 78.0)\n",
      "('2016-09-30', 78.0)\n",
      "('2016-10-01', 77.0)\n",
      "('2016-10-02', 79.0)\n",
      "('2016-10-03', 79.0)\n",
      "('2016-10-04', 79.0)\n",
      "('2016-10-05', 79.0)\n",
      "('2016-10-06', 75.0)\n",
      "('2016-10-07', 76.0)\n",
      "('2016-10-08', 73.0)\n",
      "('2016-10-09', 72.0)\n",
      "('2016-10-10', 71.0)\n",
      "('2016-10-11', 77.0)\n",
      "('2016-10-12', 79.0)\n",
      "('2016-10-13', 78.0)\n",
      "('2016-10-14', 79.0)\n",
      "('2016-10-15', 77.0)\n",
      "('2016-10-16', 79.0)\n",
      "('2016-10-17', 77.0)\n",
      "('2016-10-18', 78.0)\n",
      "('2016-10-19', 78.0)\n",
      "('2016-10-20', 78.0)\n",
      "('2016-10-21', 78.0)\n",
      "('2016-10-22', 77.0)\n",
      "('2016-10-23', 74.0)\n",
      "('2016-10-24', 75.0)\n",
      "('2016-10-25', 76.0)\n",
      "('2016-10-26', 73.0)\n",
      "('2016-10-27', 76.0)\n",
      "('2016-10-28', 74.0)\n",
      "('2016-10-29', 77.0)\n",
      "('2016-10-30', 76.0)\n",
      "('2016-10-31', 76.0)\n",
      "('2016-11-01', 74.0)\n",
      "('2016-11-02', 75.0)\n",
      "('2016-11-03', 75.0)\n",
      "('2016-11-04', 75.0)\n",
      "('2016-11-05', 75.0)\n",
      "('2016-11-06', 71.0)\n",
      "('2016-11-07', 63.0)\n",
      "('2016-11-08', 70.0)\n",
      "('2016-11-09', 68.0)\n",
      "('2016-11-10', 67.0)\n",
      "('2016-11-11', 77.0)\n",
      "('2016-11-12', 74.0)\n",
      "('2016-11-13', 77.0)\n",
      "('2016-11-14', 76.0)\n",
      "('2016-11-15', 76.0)\n",
      "('2016-11-16', 75.0)\n",
      "('2016-11-17', 76.0)\n",
      "('2016-11-18', 75.0)\n",
      "('2016-11-19', 73.0)\n",
      "('2016-11-20', 75.0)\n",
      "('2016-11-21', 73.0)\n",
      "('2016-11-22', 75.0)\n",
      "('2016-11-23', 74.0)\n",
      "('2016-11-24', 75.0)\n",
      "('2016-11-25', 74.0)\n",
      "('2016-11-26', 75.0)\n",
      "('2016-11-27', 73.0)\n",
      "('2016-11-28', 75.0)\n",
      "('2016-11-29', 73.0)\n",
      "('2016-11-30', 73.0)\n",
      "('2016-12-01', 74.0)\n",
      "('2016-12-02', 70.0)\n",
      "('2016-12-03', 72.0)\n",
      "('2016-12-04', 70.0)\n",
      "('2016-12-05', 67.0)\n",
      "('2016-12-06', 67.0)\n",
      "('2016-12-07', 69.0)\n",
      "('2016-12-08', 70.0)\n",
      "('2016-12-09', 68.0)\n",
      "('2016-12-10', 69.0)\n",
      "('2016-12-11', 69.0)\n",
      "('2016-12-12', 66.0)\n",
      "('2016-12-13', 65.0)\n",
      "('2016-12-14', 68.0)\n",
      "('2016-12-15', 62.0)\n",
      "('2016-12-16', 75.0)\n",
      "('2016-12-17', 70.0)\n",
      "('2016-12-18', 69.0)\n",
      "('2016-12-19', 76.0)\n",
      "('2016-12-20', 76.0)\n",
      "('2016-12-21', 74.0)\n",
      "('2016-12-22', 73.0)\n",
      "('2016-12-23', 71.0)\n",
      "('2016-12-24', 74.0)\n",
      "('2016-12-25', 74.0)\n",
      "('2016-12-26', 72.0)\n",
      "('2016-12-27', 71.0)\n",
      "('2016-12-28', 72.0)\n",
      "('2016-12-29', 74.0)\n",
      "('2016-12-30', 69.0)\n",
      "('2016-12-31', 67.0)\n",
      "('2017-01-01', 72.0)\n",
      "('2017-01-02', 70.0)\n",
      "('2017-01-03', 64.0)\n",
      "('2017-01-04', 63.0)\n",
      "('2017-01-05', 63.0)\n",
      "('2017-01-06', 62.0)\n",
      "('2017-01-07', 70.0)\n",
      "('2017-01-08', 70.0)\n",
      "('2017-01-09', 62.0)\n",
      "('2017-01-10', 62.0)\n",
      "('2017-01-11', 63.0)\n",
      "('2017-01-12', 65.0)\n",
      "('2017-01-13', 69.0)\n",
      "('2017-01-14', 77.0)\n",
      "('2017-01-15', 70.0)\n",
      "('2017-01-16', 74.0)\n",
      "('2017-01-17', 69.0)\n",
      "('2017-01-18', 72.0)\n",
      "('2017-01-19', 71.0)\n",
      "('2017-01-20', 69.0)\n",
      "('2017-01-21', 71.0)\n",
      "('2017-01-22', 71.0)\n",
      "('2017-01-23', 72.0)\n",
      "('2017-01-24', 72.0)\n",
      "('2017-01-25', 69.0)\n",
      "('2017-01-26', 70.0)\n",
      "('2017-01-27', 66.0)\n",
      "('2017-01-28', 65.0)\n",
      "('2017-01-29', 69.0)\n",
      "('2017-01-30', 68.0)\n",
      "('2017-01-31', 68.0)\n",
      "('2017-02-01', 68.0)\n",
      "('2017-02-02', 59.0)\n",
      "('2017-02-03', 60.0)\n",
      "('2017-02-04', 70.0)\n",
      "('2017-02-05', 73.0)\n",
      "('2017-02-06', 75.0)\n",
      "('2017-02-07', 64.0)\n",
      "('2017-02-08', 59.0)\n",
      "('2017-02-09', 59.0)\n",
      "('2017-02-10', 62.0)\n",
      "('2017-02-11', 68.0)\n",
      "('2017-02-12', 70.0)\n",
      "('2017-02-13', 73.0)\n",
      "('2017-02-14', 79.0)\n",
      "('2017-02-15', 75.0)\n",
      "('2017-02-16', 65.0)\n",
      "('2017-02-17', 70.0)\n",
      "('2017-02-18', 74.0)\n",
      "('2017-02-19', 70.0)\n",
      "('2017-02-20', 70.0)\n",
      "('2017-02-21', 71.0)\n",
      "('2017-02-22', 71.0)\n",
      "('2017-02-23', 71.0)\n",
      "('2017-02-24', 69.0)\n",
      "('2017-02-25', 61.0)\n",
      "('2017-02-26', 67.0)\n",
      "('2017-02-27', 65.0)\n",
      "('2017-02-28', 72.0)\n",
      "('2017-03-01', 71.0)\n",
      "('2017-03-02', 73.0)\n",
      "('2017-03-03', 72.0)\n",
      "('2017-03-04', 77.0)\n",
      "('2017-03-05', 73.0)\n",
      "('2017-03-06', 67.0)\n",
      "('2017-03-07', 62.0)\n",
      "('2017-03-08', 64.0)\n",
      "('2017-03-09', 67.0)\n",
      "('2017-03-10', 66.0)\n",
      "('2017-03-11', 81.0)\n",
      "('2017-03-12', 69.0)\n",
      "('2017-03-13', 66.0)\n",
      "('2017-03-14', 67.0)\n",
      "('2017-03-15', 69.0)\n",
      "('2017-03-16', 66.0)\n",
      "('2017-03-17', 68.0)\n",
      "('2017-03-18', 65.0)\n",
      "('2017-03-19', 74.0)\n",
      "('2017-03-20', 69.0)\n",
      "('2017-03-21', 72.0)\n",
      "('2017-03-22', 73.0)\n",
      "('2017-03-23', 72.0)\n",
      "('2017-03-24', 71.0)\n",
      "('2017-03-25', 76.0)\n",
      "('2017-03-26', 77.0)\n",
      "('2017-03-27', 76.0)\n",
      "('2017-03-28', 74.0)\n",
      "('2017-03-29', 68.0)\n",
      "('2017-03-30', 73.0)\n",
      "('2017-03-31', 71.0)\n",
      "('2017-04-01', 74.0)\n",
      "('2017-04-02', 75.0)\n",
      "('2017-04-03', 70.0)\n",
      "('2017-04-04', 67.0)\n",
      "('2017-04-05', 71.0)\n",
      "('2017-04-06', 67.0)\n",
      "('2017-04-07', 74.0)\n",
      "('2017-04-08', 77.0)\n",
      "('2017-04-09', 78.0)\n",
      "('2017-04-10', 67.0)\n",
      "('2017-04-11', 70.0)\n",
      "('2017-04-12', 69.0)\n",
      "('2017-04-13', 69.0)\n",
      "('2017-04-14', 74.0)\n",
      "('2017-04-15', 78.0)\n",
      "('2017-04-16', 71.0)\n",
      "('2017-04-17', 67.0)\n",
      "('2017-04-18', 68.0)\n",
      "('2017-04-19', 67.0)\n",
      "('2017-04-20', 76.0)\n",
      "('2017-04-21', 69.0)\n",
      "('2017-04-22', 72.0)\n",
      "('2017-04-23', 76.0)\n",
      "('2017-04-24', 68.0)\n",
      "('2017-04-25', 72.0)\n",
      "('2017-04-26', 74.0)\n",
      "('2017-04-27', 70.0)\n",
      "('2017-04-28', 67.0)\n",
      "('2017-04-29', 72.0)\n",
      "('2017-04-30', 60.0)\n",
      "('2017-05-01', 65.0)\n",
      "('2017-05-02', 75.0)\n",
      "('2017-05-03', 70.0)\n",
      "('2017-05-04', 75.0)\n",
      "('2017-05-05', 70.0)\n",
      "('2017-05-06', 79.0)\n",
      "('2017-05-07', 75.0)\n",
      "('2017-05-08', 70.0)\n",
      "('2017-05-09', 67.0)\n",
      "('2017-05-10', 74.0)\n",
      "('2017-05-11', 70.0)\n",
      "('2017-05-12', 75.0)\n",
      "('2017-05-13', 76.0)\n",
      "('2017-05-14', 77.0)\n",
      "('2017-05-15', 74.0)\n",
      "('2017-05-16', 74.0)\n",
      "('2017-05-17', 74.0)\n",
      "('2017-05-18', 69.0)\n",
      "('2017-05-19', 68.0)\n",
      "('2017-05-20', 76.0)\n",
      "('2017-05-21', 74.0)\n",
      "('2017-05-22', 71.0)\n",
      "('2017-05-23', 71.0)\n",
      "('2017-05-24', 74.0)\n",
      "('2017-05-25', 74.0)\n",
      "('2017-05-26', 74.0)\n",
      "('2017-05-27', 74.0)\n",
      "('2017-05-28', 80.0)\n",
      "('2017-05-29', 74.0)\n",
      "('2017-05-30', 72.0)\n",
      "('2017-05-31', 75.0)\n",
      "('2017-06-01', 80.0)\n",
      "('2017-06-02', 76.0)\n",
      "('2017-06-03', 76.0)\n",
      "('2017-06-04', 77.0)\n",
      "('2017-06-05', 75.0)\n",
      "('2017-06-06', 75.0)\n",
      "('2017-06-07', 75.0)\n",
      "('2017-06-08', 75.0)\n",
      "('2017-06-09', 72.0)\n",
      "('2017-06-10', 74.0)\n",
      "('2017-06-11', 74.0)\n",
      "('2017-06-12', 74.0)\n",
      "('2017-06-13', 76.0)\n",
      "('2017-06-14', 74.0)\n",
      "('2017-06-15', 75.0)\n",
      "('2017-06-16', 73.0)\n",
      "('2017-06-17', 79.0)\n",
      "('2017-06-18', 75.0)\n",
      "('2017-06-19', 72.0)\n",
      "('2017-06-20', 72.0)\n",
      "('2017-06-21', 74.0)\n",
      "('2017-06-22', 72.0)\n",
      "('2017-06-23', 72.0)\n",
      "('2017-06-24', 77.0)\n",
      "('2017-06-25', 71.0)\n",
      "('2017-06-26', 73.0)\n",
      "('2017-06-27', 76.0)\n",
      "('2017-06-28', 77.0)\n",
      "('2017-06-29', 76.0)\n",
      "('2017-06-30', 76.0)\n",
      "('2017-07-01', 79.0)\n",
      "('2017-07-02', 81.0)\n",
      "('2017-07-03', 76.0)\n",
      "('2017-07-04', 78.0)\n",
      "('2017-07-05', 77.0)\n",
      "('2017-07-06', 74.0)\n",
      "('2017-07-07', 75.0)\n",
      "('2017-07-08', 78.0)\n",
      "('2017-07-09', 78.0)\n",
      "('2017-07-10', 69.0)\n",
      "('2017-07-11', 72.0)\n",
      "('2017-07-12', 74.0)\n",
      "('2017-07-13', 74.0)\n",
      "('2017-07-14', 76.0)\n",
      "('2017-07-15', 80.0)\n",
      "('2017-07-16', 80.0)\n",
      "('2017-07-17', 76.0)\n",
      "('2017-07-18', 76.0)\n",
      "('2017-07-19', 76.0)\n",
      "('2017-07-20', 77.0)\n",
      "('2017-07-21', 77.0)\n",
      "('2017-07-22', 77.0)\n",
      "('2017-07-23', 82.0)\n",
      "('2017-07-24', 75.0)\n",
      "('2017-07-25', 77.0)\n",
      "('2017-07-26', 75.0)\n",
      "('2017-07-27', 76.0)\n",
      "('2017-07-28', 81.0)\n",
      "('2017-07-29', 82.0)\n",
      "('2017-07-30', 81.0)\n",
      "('2017-07-31', 76.0)\n",
      "('2017-08-04', 77.0)\n",
      "('2017-08-05', 82.0)\n",
      "('2017-08-06', 83.0)\n",
      "('2017-08-13', 77.0)\n",
      "('2017-08-14', 77.0)\n",
      "('2017-08-15', 77.0)\n",
      "('2017-08-16', 76.0)\n",
      "('2017-08-17', 76.0)\n",
      "('2017-08-18', 79.0)\n"
     ]
    }
   ],
   "source": [
    "results = session.query(M.date, M.tobs).order_by(M.date.asc()).filter(M.station == station_max_obs[0]).\\\n",
    "        filter((M.date >= date_1_year_ago))\n",
    "for row in results:\n",
    "    print(row)"
   ]
  }
 ],
 "metadata": {
  "kernelspec": {
   "display_name": "Python 3",
   "language": "python",
   "name": "python3"
  },
  "language_info": {
   "codemirror_mode": {
    "name": "ipython",
    "version": 3
   },
   "file_extension": ".py",
   "mimetype": "text/x-python",
   "name": "python",
   "nbconvert_exporter": "python",
   "pygments_lexer": "ipython3",
   "version": "3.7.1"
  }
 },
 "nbformat": 4,
 "nbformat_minor": 2
}
